{
  "nbformat": 4,
  "nbformat_minor": 0,
  "metadata": {
    "colab": {
      "private_outputs": true,
      "provenance": [],
      "mount_file_id": "1AluPF1xhUEvgLF1TnuzXR1L7Al_8Nm9i",
      "authorship_tag": "ABX9TyO/EYScY7UZWFmWM7LVMmXW",
      "include_colab_link": true
    },
    "kernelspec": {
      "name": "python3",
      "display_name": "Python 3"
    },
    "language_info": {
      "name": "python"
    }
  },
  "cells": [
    {
      "cell_type": "markdown",
      "metadata": {
        "id": "view-in-github",
        "colab_type": "text"
      },
      "source": [
        "<a href=\"https://colab.research.google.com/github/22PA1A05I0/DevOps/blob/main/seha_sai_amrutha_vani_(innobyteproj).ipynb\" target=\"_parent\"><img src=\"https://colab.research.google.com/assets/colab-badge.svg\" alt=\"Open In Colab\"/></a>"
      ]
    },
    {
      "cell_type": "code",
      "execution_count": null,
      "metadata": {
        "id": "ksbC3wAaVAXT"
      },
      "outputs": [],
      "source": [
        "import pandas as pd\n",
        "import matplotlib.pyplot as plt\n",
        "import seaborn as sns\n",
        "from sklearn.cluster import KMeans\n",
        "from sklearn.preprocessing import StandardScaler"
      ]
    },
    {
      "cell_type": "code",
      "source": [
        "data = pd.read_csv(\"/content/drive/MyDrive/Amazon Sale Report.csv\")\n",
        "data.head()"
      ],
      "metadata": {
        "id": "dbnUI9FrVYOh"
      },
      "execution_count": null,
      "outputs": []
    },
    {
      "cell_type": "code",
      "source": [
        "data['Date']=pd.to_datetime(data['Date'])\n",
        "total_sales = data['Amount'].sum()\n",
        "total_orders=data['Order ID'].nunique()\n",
        "average_order_value=total_sales/total_orders\n",
        "print(f'Total Sales: ${total_sales:.2f}')\n",
        "print(f'Total Orders: {total_orders}')\n",
        "print(f'Average Order Value: ${average_order_value:.2f}')"
      ],
      "metadata": {
        "id": "hLguzQN2WC6g"
      },
      "execution_count": null,
      "outputs": []
    },
    {
      "cell_type": "code",
      "source": [
        "sales_trend = data.groupby(data['Date'].dt.to_period('M')).sum(['Amount'])\n",
        "sales_trend.index = sales_trend.index.strftime('%b')\n",
        "sales_trend.plot(title='Monthly Sales Trend', xlabel='Month-2022', ylabel='Sales Amount', figsize=(12, 6))\n",
        "plt.xticks(rotation=45, ha='right')\n",
        "plt.tight_layout()\n",
        "plt.show()"
      ],
      "metadata": {
        "id": "6UXfPVBWYdXa"
      },
      "execution_count": null,
      "outputs": []
    },
    {
      "cell_type": "code",
      "source": [
        "category_distribution = data['Category'].value_counts()\n",
        "sns.barplot(x=category_distribution.index, y=category_distribution.values, color='skyblue')\n",
        "plt.title('Product Category Distribution')\n",
        "plt.xlabel('Product Category')\n",
        "plt.ylabel('Number of Sales')\n",
        "plt.xticks(rotation=45)\n",
        "plt.show()"
      ],
      "metadata": {
        "id": "Zk__aupRWk4f"
      },
      "execution_count": null,
      "outputs": []
    },
    {
      "cell_type": "code",
      "source": [
        "fulfilment_distribution=data['Fulfilment'].value_counts()\n",
        "sns.barplot(x=fulfilment_distribution.index, y=fulfilment_distribution.values, color='lightgreen')\n",
        "plt.title('Fulfilment Method Distribution')\n",
        "plt.xlabel('Fulfilment Method')\n",
        "plt.ylabel('Number of Orders')\n",
        "plt.show()"
      ],
      "metadata": {
        "id": "S8-r7g0aZ8Kw"
      },
      "execution_count": null,
      "outputs": []
    },
    {
      "cell_type": "code",
      "source": [
        "if 'ship-city' in data.columns:\n",
        "  geographical_sales = data.groupby('ship-state')['Amount'].sum().sort_values(ascending=False)\n",
        "  geographical_sales.plot(kind= 'bar', title='Sales by State', xlabel='ship-state', ylabel='Amount', figsize=(12,6))\n",
        "  plt.xticks(rotation=90)\n",
        "  plt.subplots_adjust(wspace=0.1)\n",
        "  plt.show()\n",
        "else:\n",
        "  print(\"No '\")"
      ],
      "metadata": {
        "id": "f1taOa5LaaTY"
      },
      "execution_count": null,
      "outputs": []
    },
    {
      "cell_type": "code",
      "source": [
        "if 'ship-state' in data.columns:\n",
        "    geographical_sales = data.groupby('ship-state')['Qty'].sum().sort_values(ascending=False)\n",
        "    geographical_sales.plot(kind='bar', title='Quantity Sold by State', xlabel='State', ylabel='Quantity Sold', figsize=(12, 6))\n",
        "    plt.xticks(rotation=90)\n",
        "    plt.show()\n",
        "else:\n",
        "    print(\"No 'ship-state' column found in the dataset for geographical analysis.\")\n"
      ],
      "metadata": {
        "id": "Q9FU7ifOcY9_"
      },
      "execution_count": null,
      "outputs": []
    },
    {
      "cell_type": "code",
      "source": [
        "print(\"Insights:\")\n",
        "print(\"- Focus on top-selling product categories for marketing.\")\n",
        "print(\"- Optimize fulfillment methods based on performance.\")\n",
        "print(\"- Analyze sales trends to identify peak periods for promotions.\")"
      ],
      "metadata": {
        "id": "2e2wosSeck2W"
      },
      "execution_count": null,
      "outputs": []
    }
  ]
}